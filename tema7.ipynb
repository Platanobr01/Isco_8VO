{
 "cells": [
  {
   "cell_type": "markdown",
   "metadata": {},
   "source": [
    "### 1.Modulos"
   ]
  },
  {
   "cell_type": "code",
   "execution_count": null,
   "metadata": {},
   "outputs": [],
   "source": [
    "import operaciones as op"
   ]
  },
  {
   "cell_type": "code",
   "execution_count": null,
   "metadata": {},
   "outputs": [],
   "source": [
    "suma = op.suma(6, 4)\n",
    "print(suma)"
   ]
  },
  {
   "cell_type": "code",
   "execution_count": null,
   "metadata": {},
   "outputs": [],
   "source": [
    "resta = op.resta(2, 6)\n",
    "print(resta)"
   ]
  },
  {
   "cell_type": "code",
   "execution_count": null,
   "metadata": {},
   "outputs": [],
   "source": [
    "multiplicacion = op.multiplicacion(2, 5)\n",
    "print(multiplicacion)"
   ]
  },
  {
   "cell_type": "code",
   "execution_count": null,
   "metadata": {},
   "outputs": [],
   "source": [
    "division = op.divicion(2 ,6)\n",
    "print(division)"
   ]
  },
  {
   "cell_type": "code",
   "execution_count": null,
   "metadata": {},
   "outputs": [],
   "source": [
    "from funciones import comparaciones as comp"
   ]
  },
  {
   "cell_type": "code",
   "execution_count": null,
   "metadata": {},
   "outputs": [],
   "source": [
    "comparar = comp.comparar(1, 5)\n",
    "print(comparar)"
   ]
  },
  {
   "cell_type": "code",
   "execution_count": 1,
   "metadata": {},
   "outputs": [],
   "source": [
    "from operadores import aritmeticas as ari\n",
    "from operadores import comparacion as com\n",
    "from operadores import logicos as log"
   ]
  },
  {
   "cell_type": "code",
   "execution_count": 21,
   "metadata": {},
   "outputs": [
    {
     "name": "stdout",
     "output_type": "stream",
     "text": [
      "5.0\n",
      "-1.0\n",
      "6.0\n",
      "0.6666666666666666\n"
     ]
    }
   ],
   "source": [
    "num1 = float(input(\"Ingrese un numero: \"))\n",
    "num2 = float(input(\"Ingrese otro numero: \"))\n",
    "\n",
    "suma = ari.suma(num1, num2)\n",
    "print(suma)\n",
    "\n",
    "resta = ari.resta(num1, num2)\n",
    "print(resta)\n",
    "\n",
    "multiplicacion = ari.multiplicaion(num1, num2)\n",
    "print(multiplicacion)\n",
    "\n",
    "dividir = ari.division(num1, num2)\n",
    "print(dividir)"
   ]
  },
  {
   "cell_type": "code",
   "execution_count": 10,
   "metadata": {},
   "outputs": [
    {
     "name": "stdout",
     "output_type": "stream",
     "text": [
      "Menor\n"
     ]
    }
   ],
   "source": [
    "nume1 = input(\"Ingrese un numero: \")\n",
    "nume2 = input(\"Ingrese otro numero: \")\n",
    "\n",
    "comparacion = com.comparativa(nume1, nume2)\n",
    "print(comparacion)"
   ]
  },
  {
   "cell_type": "code",
   "execution_count": 19,
   "metadata": {},
   "outputs": [
    {
     "name": "stdout",
     "output_type": "stream",
     "text": [
      "True\n"
     ]
    }
   ],
   "source": [
    "numo1 = input(\"ingrese un numero: \")\n",
    "numo2 = input(\"ingrese otro numero: \")\n",
    "\n",
    "logica = log.logica(numo1, numo2)\n",
    "print(logica)"
   ]
  }
 ],
 "metadata": {
  "kernelspec": {
   "display_name": "Python 3",
   "language": "python",
   "name": "python3"
  },
  "language_info": {
   "codemirror_mode": {
    "name": "ipython",
    "version": 3
   },
   "file_extension": ".py",
   "mimetype": "text/x-python",
   "name": "python",
   "nbconvert_exporter": "python",
   "pygments_lexer": "ipython3",
   "version": "3.13.1"
  }
 },
 "nbformat": 4,
 "nbformat_minor": 2
}
