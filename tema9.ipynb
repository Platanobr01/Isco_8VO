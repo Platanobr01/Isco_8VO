{
 "cells": [
  {
   "cell_type": "markdown",
   "metadata": {},
   "source": [
    "### Tema 9: Progamacion orientada a objetos"
   ]
  },
  {
   "cell_type": "markdown",
   "metadata": {},
   "source": [
    "Estructura de una plantilla:\n",
    "\n",
    "class = Fabrica\n",
    "contructor = Maquina que crea objetos.\n",
    "Parametros = Vakires de los atributos\n",
    "Las maquinas necesitas atributos.\n",
    "self = este objeto"
   ]
  },
  {
   "cell_type": "code",
   "execution_count": 2,
   "metadata": {},
   "outputs": [],
   "source": [
    "class Pokemon:\n",
    "    nombre = \"\"\n",
    "    tipo = \"\"\n",
    "    ph = 0\n",
    "    ataque = 0\n",
    "    defensa = 0\n",
    "    velocidad = 0\n",
    "    \n",
    "    def describir(self):\n",
    "        print(f\"Nombre: {self.nombre}\")\n",
    "        print(f\"Tipo: {self.tipo}\")\n",
    "        print(F\"ph: {self.ph}\")\n",
    "        print(f\"Ataque: {self.ataque}\")\n",
    "        print(f\"Defensa: {self.defensa}\")\n",
    "        print(f\"Velocidad: {self.velocidad}\")"
   ]
  },
  {
   "cell_type": "code",
   "execution_count": 3,
   "metadata": {},
   "outputs": [
    {
     "name": "stdout",
     "output_type": "stream",
     "text": [
      "Nombre: Snorlax\n",
      "Tipo: Gordo\n",
      "ph: 10\n",
      "Ataque: 100\n",
      "Defensa: 10\n",
      "Velocidad: -10\n"
     ]
    }
   ],
   "source": [
    "pokemon1 = Pokemon()\n",
    "pokemon1.nombre = \"Snorlax\"\n",
    "pokemon1.tipo = \"Gordo\"\n",
    "pokemon1.ph = \"10\"\n",
    "pokemon1.ataque = \"100\"\n",
    "pokemon1.defensa = \"10\"\n",
    "pokemon1.velocidad = \"-10\"\n",
    "pokemon1.describir()"
   ]
  },
  {
   "cell_type": "code",
   "execution_count": 2,
   "metadata": {},
   "outputs": [],
   "source": [
    "class Pokemones: \n",
    "    def __init__(self, nombre, tipo, ph, ataque, defensa, velocidad):\n",
    "        self.nombre = nombre\n",
    "        self.tipo = tipo\n",
    "        self.ph = ph\n",
    "        self.ataque = ataque\n",
    "        self.defensa = defensa\n",
    "        self.velocidad = velocidad\n",
    "    def describir(self):\n",
    "        print(f\"Nombre: {self.nombre}\")\n",
    "        print(f\"Tipo: {self.tipo}\")\n",
    "        print(F\"Puntos de vida: {self.ph}\")\n",
    "        print(f\"Ataque: {self.ataque}\")\n",
    "        print(f\"Defensa: {self.defensa}\")\n",
    "        print(f\"Velocidad: {self.velocidad}\")\n",
    "        \n",
    "    def ataque_fuego(self):\n",
    "        print(\"Ataque fuego\")\n",
    "        \n",
    "    def ataque_agua(self):\n",
    "        print(\"Ataque agua\")\n"
   ]
  },
  {
   "cell_type": "code",
   "execution_count": 3,
   "metadata": {},
   "outputs": [
    {
     "name": "stdout",
     "output_type": "stream",
     "text": [
      "Nombre: Charmander\n",
      "Tipo: Fuego\n",
      "Puntos de vida: 10\n",
      "Ataque: 30\n",
      "Defensa: 10\n",
      "Velocidad: 48\n",
      "Ataque fuego\n",
      "Nombre: Squirtle\n",
      "Tipo: Agua\n",
      "Puntos de vida: 10\n",
      "Ataque: 20\n",
      "Defensa: 49\n",
      "Velocidad: 91\n",
      "Ataque agua\n",
      "Es un pokemon tipo fuego\n",
      "Ataque fuego\n"
     ]
    }
   ],
   "source": [
    "pokemon2 = Pokemones(\"Charmander\",\"Fuego\", 10, 30, 10, 48)\n",
    "pokemon3 = Pokemones(\"Squirtle\", \"Agua\", 10, 20, 49, 91)\n",
    "pokemon2.describir()\n",
    "pokemon3.ataque_fuego()\n",
    "\n",
    "pokemon3.describir()\n",
    "pokemon3.ataque_agua()\n",
    "\n",
    "if(pokemon2.tipo == \"Fuego\"):\n",
    "    print(\"Es un pokemon tipo fuego\")\n",
    "    pokemon2.ataque_fuego()\n",
    "elif(pokemon3.tipo == \"agua\"):\n",
    "    print(\"Es un tipo agua\")\n",
    "    pokemon3.ataque_agua()"
   ]
  }
 ],
 "metadata": {
  "kernelspec": {
   "display_name": "Python 3",
   "language": "python",
   "name": "python3"
  },
  "language_info": {
   "codemirror_mode": {
    "name": "ipython",
    "version": 3
   },
   "file_extension": ".py",
   "mimetype": "text/x-python",
   "name": "python",
   "nbconvert_exporter": "python",
   "pygments_lexer": "ipython3",
   "version": "3.13.1"
  }
 },
 "nbformat": 4,
 "nbformat_minor": 2
}
