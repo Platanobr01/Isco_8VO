{
 "cells": [
  {
   "cell_type": "markdown",
   "metadata": {},
   "source": [
    "### Tema y salida de archivos"
   ]
  },
  {
   "cell_type": "code",
   "execution_count": null,
   "metadata": {},
   "outputs": [],
   "source": [
    "archivo = open(\"hola.txt\", \"r\")"
   ]
  },
  {
   "cell_type": "code",
   "execution_count": null,
   "metadata": {},
   "outputs": [],
   "source": [
    "contenido = archivo.read()\n",
    "print(contenido)"
   ]
  },
  {
   "cell_type": "code",
   "execution_count": null,
   "metadata": {},
   "outputs": [],
   "source": []
  },
  {
   "cell_type": "code",
   "execution_count": null,
   "metadata": {},
   "outputs": [],
   "source": [
    "linea = archivo.readline()\n",
    "print(linea)\n"
   ]
  },
  {
   "cell_type": "code",
   "execution_count": null,
   "metadata": {},
   "outputs": [],
   "source": [
    "lineas = archivo.readlines()\n",
    "print(lineas)"
   ]
  },
  {
   "cell_type": "code",
   "execution_count": null,
   "metadata": {},
   "outputs": [],
   "source": [
    "for linea in lineas :\n",
    "    print(linea)"
   ]
  },
  {
   "cell_type": "code",
   "execution_count": null,
   "metadata": {},
   "outputs": [],
   "source": [
    "archivo = open(\"hola.txt\", \"w\")\n",
    "archivo.write(\"este sobre escribe merequetenge \\n\")"
   ]
  },
  {
   "cell_type": "code",
   "execution_count": null,
   "metadata": {},
   "outputs": [],
   "source": [
    "archivo = open(\"hola.txt\", \"a\")\n",
    "archivo.write(\"Esto añade merequetengue \\n\")"
   ]
  },
  {
   "cell_type": "code",
   "execution_count": null,
   "metadata": {},
   "outputs": [],
   "source": [
    "archivo = open(\"hola.txt\", \"r\")\n",
    "contenido = archivo.read()\n",
    "print(contenido)"
   ]
  },
  {
   "cell_type": "code",
   "execution_count": null,
   "metadata": {},
   "outputs": [],
   "source": [
    "tareas = [\"Comprar leche\", \"Vender python\", \"chulear el culo del jimbo\"]\n",
    "\n",
    "with open(\"tareas.txt\", \"w\") as archivo:\n",
    "    for tarea in tareas:\n",
    "        archivo.write(tarea + \"\\n\")"
   ]
  },
  {
   "cell_type": "code",
   "execution_count": null,
   "metadata": {},
   "outputs": [],
   "source": [
    "with open(\"tareas.txt\", \"r\") as archivo:\n",
    "    lineas = archivo.readline()\n",
    "    for linea in lineas:\n",
    "        print(linea.strip())"
   ]
  },
  {
   "cell_type": "code",
   "execution_count": 1,
   "metadata": {},
   "outputs": [
    {
     "name": "stdout",
     "output_type": "stream",
     "text": [
      "Tarea guardada.\n",
      "Tarea guardada.\n",
      "Número detectado, cerrando el programa...\n",
      "\n",
      "Tareas guardadas:\n",
      "- cocoa\n",
      "- verde\n"
     ]
    }
   ],
   "source": [
    "with open(\"actividades.txt\", \"w\") as archivo:\n",
    "    while True:\n",
    "        tarea = input(\"Ingrese una tarea (o un número para salir): \")\n",
    "        \n",
    "        if tarea.replace(\".\", \"\", 1).isdigit(): \n",
    "            print(\"Número detectado, cerrando el programa...\")\n",
    "            break\n",
    "        \n",
    "        archivo.write(tarea + \"\\n\")\n",
    "        print(\"Tarea guardada.\")\n",
    "        \n",
    "print(\"\\nTareas guardadas:\")\n",
    "with open(\"actividades.txt\", \"r\") as archivo:\n",
    "    for linea in archivo:\n",
    "        print(\"- \" + linea.strip())\n",
    "\n",
    "\n"
   ]
  },
  {
   "cell_type": "code",
   "execution_count": null,
   "metadata": {},
   "outputs": [],
   "source": []
  }
 ],
 "metadata": {
  "kernelspec": {
   "display_name": "Python 3",
   "language": "python",
   "name": "python3"
  },
  "language_info": {
   "codemirror_mode": {
    "name": "ipython",
    "version": 3
   },
   "file_extension": ".py",
   "mimetype": "text/x-python",
   "name": "python",
   "nbconvert_exporter": "python",
   "pygments_lexer": "ipython3",
   "version": "3.13.1"
  }
 },
 "nbformat": 4,
 "nbformat_minor": 2
}
