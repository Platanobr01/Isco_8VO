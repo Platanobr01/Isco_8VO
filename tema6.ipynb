{
 "cells": [
  {
   "cell_type": "code",
   "execution_count": 24,
   "metadata": {},
   "outputs": [
    {
     "name": "stdout",
     "output_type": "stream",
     "text": [
      "('rosas', 'tulipanes')\n",
      "rosas\n",
      "tulipanes\n",
      "['pez', 'gato']\n"
     ]
    }
   ],
   "source": [
    "flores = (\"rosas\",\"tulipanes\")\n",
    "animal = [\"perro\",\"gato\"]\n",
    "print(flores)\n",
    "print(flores[0])\n",
    "print(flores[1])\n",
    "\n",
    "animal[0] = \"pez\"\n",
    "print(animal)"
   ]
  },
  {
   "cell_type": "code",
   "execution_count": null,
   "metadata": {},
   "outputs": [],
   "source": []
  },
  {
   "cell_type": "code",
   "execution_count": 1,
   "metadata": {},
   "outputs": [
    {
     "name": "stdout",
     "output_type": "stream",
     "text": [
      "Debes ingresar un número válido.\n"
     ]
    }
   ],
   "source": [
    "try:\n",
    "    numero = int(input(\"Introduce un número: \"))\n",
    "    resulta = 10 / numero\n",
    "    print(resulta)\n",
    "except ZeroDivisionError:\n",
    "    print(\"No puedes dividir por cero.\")\n",
    "except ValueError:\n",
    "    print(\"Debes ingresar un número válido.\")"
   ]
  },
  {
   "cell_type": "code",
   "execution_count": 17,
   "metadata": {},
   "outputs": [
    {
     "name": "stdout",
     "output_type": "stream",
     "text": [
      "El numero 1 es 0, favor de cambiar\n",
      "No puedes dividir por cero.\n"
     ]
    }
   ],
   "source": [
    "try:\n",
    "    num1 = float(input(\"Introduce el primer número: \"))\n",
    "    num2 = float(input(\"Introduce el segundo número: \"))\n",
    "    num3 = float(input(\"Introduce el tercer numero: \"))\n",
    "    if  num1 == 0 :{\n",
    "        print(\"El numero 1 es 0, favor de cambiar\")\n",
    "    }\n",
    "    elif num2 == 0:{\n",
    "        print(\"El numero 2 es 0, ingrese\")\n",
    "    }\n",
    "    elif num3 == 0:{\n",
    "        print(\"El numero 3 es 0, cambialowe\")\n",
    "    }\n",
    "    entre = num1 / num2\n",
    "    resultado = entre / num3\n",
    "    print(f\"El resultado es: {resultado}\")\n",
    "\n",
    "except ZeroDivisionError:\n",
    "    print(\"No puedes dividir por cero.\")\n",
    "except ValueError:\n",
    "    print(\"Debes ingresar números válidos.\")\n",
    "\n"
   ]
  },
  {
   "cell_type": "markdown",
   "metadata": {},
   "source": [
    "\n"
   ]
  }
 ],
 "metadata": {
  "kernelspec": {
   "display_name": "Python 3",
   "language": "python",
   "name": "python3"
  },
  "language_info": {
   "codemirror_mode": {
    "name": "ipython",
    "version": 3
   },
   "file_extension": ".py",
   "mimetype": "text/x-python",
   "name": "python",
   "nbconvert_exporter": "python",
   "pygments_lexer": "ipython3",
   "version": "3.13.1"
  }
 },
 "nbformat": 4,
 "nbformat_minor": 2
}
