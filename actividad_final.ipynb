{
 "cells": [
  {
   "cell_type": "code",
   "execution_count": 1,
   "metadata": {},
   "outputs": [],
   "source": [
    "import os\n",
    "\n",
    "class Spotify:\n",
    "    def __init__(self, Titulo, Artista, Genero, Album, Duracion, Fecha_Salida):\n",
    "        self.Titulo = Titulo\n",
    "        self.Artista = Artista\n",
    "        self.Genero = Genero\n",
    "        self.Album = Album\n",
    "        self.Duracion = Duracion\n",
    "        self.Fecha_Salida = Fecha_Salida\n",
    "\n",
    "    def describir(self):\n",
    "        return (f\"Titulo: {self.Titulo}\\n\"\n",
    "                f\"Artista: {self.Artista}\\n\"\n",
    "                f\"Genero: {self.Genero}\\n\"\n",
    "                f\"Album: {self.Album}\\n\"\n",
    "                f\"Duracion: {self.Duracion}\\n\"\n",
    "                f\"Fecha de salida: {self.Fecha_Salida}\\n\")\n"
   ]
  },
  {
   "cell_type": "code",
   "execution_count": 2,
   "metadata": {},
   "outputs": [
    {
     "name": "stdout",
     "output_type": "stream",
     "text": [
      "Archivos generados correctamente en la carpeta 'canciones'.\n"
     ]
    }
   ],
   "source": [
    "\n",
    "# Crear carpeta si no existe\n",
    "if not os.path.exists(\"canciones\"):\n",
    "    os.makedirs(\"canciones\")\n",
    "\n",
    "# Lista de objetos Spotify\n",
    "canciones = [\n",
    "    Spotify(\"Song1\", \"Artist1\", \"Pop\", \"Album1\", \"3:45\", \"2024-01-01\"),\n",
    "    Spotify(\"Song2\", \"Artist2\", \"Rock\", \"Album2\", \"4:20\", \"2023-12-15\"),\n",
    "    Spotify(\"Song3\", \"Artist1\", \"Pop\", \"Album3\", \"2:30\", \"2022-11-10\")\n",
    "]\n",
    "\n",
    "# Archivo \"w\" para datos de los objetos instanciados\n",
    "with open(\"canciones/datos_nombre.txt\", \"w\") as archivo_nombre:\n",
    "    for cancion in canciones:\n",
    "        archivo_nombre.write(cancion.describir() + \"\\n\")\n",
    "\n",
    "# Archivo \"a\" para datos organizados por categoría\n",
    "with open(\"canciones/datos_categoria.txt\", \"a\") as archivo_categoria:\n",
    "    for cancion in canciones:\n",
    "        archivo_categoria.write(f\"Categoria: {cancion.Genero}\\n\")\n",
    "        archivo_categoria.write(cancion.describir() + \"\\n\")\n",
    "\n",
    "print(\"Archivos generados correctamente en la carpeta 'canciones'.\")\n"
   ]
  }
 ],
 "metadata": {
  "kernelspec": {
   "display_name": "Python 3",
   "language": "python",
   "name": "python3"
  },
  "language_info": {
   "codemirror_mode": {
    "name": "ipython",
    "version": 3
   },
   "file_extension": ".py",
   "mimetype": "text/x-python",
   "name": "python",
   "nbconvert_exporter": "python",
   "pygments_lexer": "ipython3",
   "version": "3.13.1"
  }
 },
 "nbformat": 4,
 "nbformat_minor": 2
}
