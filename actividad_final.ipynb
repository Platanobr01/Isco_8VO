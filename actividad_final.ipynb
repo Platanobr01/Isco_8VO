{
 "cells": [
  {
   "cell_type": "code",
   "execution_count": 9,
   "metadata": {},
   "outputs": [],
   "source": [
    "class Spotify:\n",
    "    def __init__(self, Titulo, Artista, Genero, Album, Duracion):\n",
    "        self.Titulo = Titulo\n",
    "        self.Artista = Artista\n",
    "        self.Genero = Genero\n",
    "        self.Album = Album\n",
    "        self.Duracion = Duracion\n",
    "\n",
    "    def describir(self):\n",
    "        return (f\"Titulo: {self.Titulo}\\n\"\n",
    "                f\"Artista: {self.Artista}\\n\"\n",
    "                f\"Genero: {self.Genero}\\n\"\n",
    "                f\"Album: {self.Album}\\n\"\n",
    "                f\"Duracion: {self.Duracion}\\n\")\n"
   ]
  },
  {
   "cell_type": "code",
   "execution_count": 10,
   "metadata": {},
   "outputs": [
    {
     "name": "stdout",
     "output_type": "stream",
     "text": [
      "Archivo actualizado correctamente.\n"
     ]
    }
   ],
   "source": [
    "\n",
    "# Pedir datos de una sola canción\n",
    "titulo = input(\"Ingresa el título de la canción: \")\n",
    "artista = input(\"Ingresa el artista: \")\n",
    "genero = input(\"Ingresa el género: \")\n",
    "album = input(\"Ingresa el álbum: \")\n",
    "duracion = input(\"Ingresa la duración: \")\n",
    "\n",
    "\n",
    "cancion = Spotify(titulo, artista, genero, album, duracion)\n",
    "\n",
    "# Guardar en archivo \"w\" para datos de los objetos instanciados\n",
    "with open(\"canciones/Titulos.txt\", \"w\") as archivo_nombre:\n",
    "    archivo_nombre.write(cancion.describir() + \"\\n\")\n",
    "\n",
    "# Guardar en archivo \"a\" para datos organizados por categoría\n",
    "with open(\"generos/Generos.txt\", \"a\") as archivo_categoria:\n",
    "    archivo_categoria.write(f\"Categoria: {cancion.Genero}\\n\")\n",
    "    archivo_categoria.write(cancion.describir() + \"\\n\")\n",
    "\n",
    "print(\"Archivo actualizado correctamente.\")\n"
   ]
  }
 ],
 "metadata": {
  "kernelspec": {
   "display_name": "Python 3",
   "language": "python",
   "name": "python3"
  },
  "language_info": {
   "codemirror_mode": {
    "name": "ipython",
    "version": 3
   },
   "file_extension": ".py",
   "mimetype": "text/x-python",
   "name": "python",
   "nbconvert_exporter": "python",
   "pygments_lexer": "ipython3",
   "version": "3.13.1"
  }
 },
 "nbformat": 4,
 "nbformat_minor": 2
}
