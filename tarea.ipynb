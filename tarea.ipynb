{
 "cells": [
  {
   "cell_type": "markdown",
   "metadata": {},
   "source": [
    "### Ejercicio 1"
   ]
  },
  {
   "cell_type": "code",
   "execution_count": 1,
   "metadata": {},
   "outputs": [
    {
     "name": "stdout",
     "output_type": "stream",
     "text": [
      "Hola benites, tas senil tienes 26 añosm y ademas vienes de chiapas tas mal primo\n"
     ]
    }
   ],
   "source": [
    "nombre = input(\"Introduce tu nombre: \")\n",
    "edad = input(\"Introduce tu edad: \")\n",
    "ciudad = input(\"Introduce tu ciudad de origen\")\n",
    "\n",
    "print(f\"Hola {nombre}, tas senil tienes {edad} años y ademas vienes de {ciudad} tas mal primo\")"
   ]
  },
  {
   "cell_type": "markdown",
   "metadata": {},
   "source": [
    "### Ejercicio 2"
   ]
  },
  {
   "cell_type": "code",
   "execution_count": 3,
   "metadata": {},
   "outputs": [
    {
     "name": "stdout",
     "output_type": "stream",
     "text": [
      "Suma: 5.0\n"
     ]
    }
   ],
   "source": [
    "num1 = float(input(\"Introduce el primer digito: \"))\n",
    "num2 = float(input(\"Introduce el segundo digito: \"))\n",
    "\n",
    "opciones = float(input(\"Seleccione la opcion que quiera hacer: \"))\n",
    "\n",
    "if opciones == 1: {\n",
    "    print(f\"Suma: {num1 + num2}\")\n",
    "} \n",
    "elif opciones == 2: {\n",
    "    print(f\"Resta: {num1 - num2}\")\n",
    "}\n",
    "elif opciones == 3: {\n",
    "    print(f\"Multipicacion: {num1 * num2}\")\n",
    "}\n",
    "elif opciones == 4: {\n",
    "    print(f\"Divisio: {num1 / num2}\")\n",
    "}\n",
    "else :{\n",
    "    print(\"menso\")\n",
    "}"
   ]
  }
 ],
 "metadata": {
  "kernelspec": {
   "display_name": "Python 3",
   "language": "python",
   "name": "python3"
  },
  "language_info": {
   "codemirror_mode": {
    "name": "ipython",
    "version": 3
   },
   "file_extension": ".py",
   "mimetype": "text/x-python",
   "name": "python",
   "nbconvert_exporter": "python",
   "pygments_lexer": "ipython3",
   "version": "3.13.1"
  }
 },
 "nbformat": 4,
 "nbformat_minor": 2
}
